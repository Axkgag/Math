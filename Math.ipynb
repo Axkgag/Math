{
 "cells": [
  {
   "attachments": {},
   "cell_type": "markdown",
   "id": "8692a6ab",
   "metadata": {},
   "source": [
    "# 1. 集合统计量"
   ]
  },
  {
   "attachments": {},
   "cell_type": "markdown",
   "id": "b40ba943",
   "metadata": {},
   "source": [
    "有一包含$n$个元素的集合$X = \\{x_1, x_2, ..., x_n \\}$，该集合的均值（平均值）、方差、标准差分别用$\\overline{x}， s^2， s$表示，公式如下\n",
    "\n",
    "$$\n",
    "X = \\{x_1, x_2, ..., x_n \\}\n",
    "$$\n",
    "\n",
    "$$\n",
    "均值:\\overline{x} =  \\frac{\\sum_{i=1}^n x_i}{n} = \\frac{x_1 + x_2 + ... + x_n}{n}\n",
    "$$\n",
    "\n",
    "$$\n",
    "方差：s^2 = \\frac{1}{n} \\sum_{i = 1}^n (x_i - \\overline{x})^2 = \\frac{1}{n} ((x_1 - \\overline{x})^2 + (x_2 - \\overline{x})^2 + ...  + (x_n - \\overline{x})^2)\n",
    "$$\n",
    "\n",
    "$$\n",
    "标准差：s = \\sqrt{s^2} = \\sqrt{\\frac{1}{n} \\sum_{i = 1}^n (x_i - \\overline{x})^2} = \\sqrt{\\frac{1}{n} ((x_1 - \\overline{x})^2 + (x_2 - \\overline{x})^2 + ...  + (x_n - \\overline{x})^2)}\n",
    "$$"
   ]
  },
  {
   "cell_type": "code",
   "execution_count": 1,
   "id": "53eae80d",
   "metadata": {},
   "outputs": [
    {
     "name": "stdout",
     "output_type": "stream",
     "text": [
      "均值:  0.23693333333333333\n",
      "方差: 4.4222222222222837e-07\n",
      "标准差: 0.0006649979114420047\n"
     ]
    }
   ],
   "source": [
    "import numpy as np\n",
    "\n",
    "X = [0.2375, 0.2373, 0.2360]\n",
    "print(\"均值: \", np.mean(X))\n",
    "print(\"方差:\", np.var(X))\n",
    "print(\"标准差:\", np.std(X))"
   ]
  },
  {
   "attachments": {},
   "cell_type": "markdown",
   "id": "eb77075e",
   "metadata": {},
   "source": [
    "# 2. 分布积分公式"
   ]
  },
  {
   "attachments": {},
   "cell_type": "markdown",
   "id": "f025e7a3",
   "metadata": {},
   "source": [
    "设有两个函数$f(x)$和$g(x)$，两个函数的导数分别是$f'(x)$和$g'(x)$，求：\n",
    "$$\\int f'(x)g(x)dx$$\n"
   ]
  },
  {
   "attachments": {},
   "cell_type": "markdown",
   "id": "b0204d7d",
   "metadata": {},
   "source": [
    "分布积分公式为：\n",
    "$$\\int f'(x)g(x)dx = f(x)g(x)-\\int g'(x)f(x)dx$$\n",
    "或者由公式$f'(x) = \\frac{df(x)}{dx}$可以得到$f'(x)dx = df(x)$，因此分部积分公式还能表示为：\n",
    "$$\\int g(x)df(x) = f(x)g(x)-\\int f(x)dg(x)$$"
   ]
  },
  {
   "attachments": {},
   "cell_type": "markdown",
   "id": "687096ef",
   "metadata": {},
   "source": [
    "## 2.1 解题思路"
   ]
  },
  {
   "attachments": {},
   "cell_type": "markdown",
   "id": "3288b402",
   "metadata": {},
   "source": [
    "例：$\\int_1^2 \\frac{\\log{x}}{x^2}dx$"
   ]
  },
  {
   "attachments": {},
   "cell_type": "markdown",
   "id": "bf5ff20e",
   "metadata": {},
   "source": [
    "解:   \n",
    "因为$(\\frac{1}{x})'= -\\frac{1}{x^2}$，又因为$f'(x)dx = df(x)$，所以$\\frac{1}{x^2}dx = d(-\\frac{1}{x})$\n",
    "  \n",
    "所以原式可以写为：$$\\int_1^2 \\frac{\\log{x}}{x^2}dx = \\int_1^2 \\log{x}d(-\\frac{1}{x})$$\n",
    "  \n",
    "因此由第二种分布积分公式可以得到：\n",
    "$$\n",
    "\\begin{align}\n",
    "\\int_1^2 \\frac{\\log{x}}{x^2}dx &= \\int_1^2 \\log{x}d(-\\frac{1}{x}) \\\\\n",
    "&= [-\\frac{\\log{x}}{x}]_1^2 - \\int_1^2 (-\\frac{1}{x})d\\log{x}\n",
    "\\end{align}\n",
    "$$\n",
    "  \n",
    "又由于$d\\log{x} = \\frac{1}{x}dx$，上式可以进一步表示为：\n",
    "$$\n",
    "\\begin{align}\n",
    "\\int_1^2 \\frac{\\log{x}}{x^2}dx &= \\int_1^2 \\log{x}d(-\\frac{1}{x}) \\\\\n",
    "&= [-\\frac{\\log{x}}{x}]_1^2 - \\int_1^2 (-\\frac{1}{x})d\\log{x} \\\\\n",
    "&= [-\\frac{\\log{x}}{x}]_1^2 - \\int_1^2 (-\\frac{1}{x^2})dx\n",
    "\\end{align}\n",
    "$$\n",
    "由$(\\frac{1}{x})'= -\\frac{1}{x^2}$可以得到$\\int -\\frac{1}{x^2}dx = \\frac{1}{x}$，继而上式可以表示为：\n",
    "$$\n",
    "\\begin{align}\n",
    "\\int_1^2 \\frac{\\log{x}}{x^2}dx &= \\int_1^2 \\log{x}d(-\\frac{1}{x}) \\\\\n",
    "&= [-\\frac{\\log{x}}{x}]_1^2 - \\int_1^2 (-\\frac{1}{x})d\\log{x} \\\\\n",
    "&= [-\\frac{\\log{x}}{x}]_1^2 - \\int_1^2 (-\\frac{1}{x^2})dx \\\\\n",
    "&= [-\\frac{\\log{x}}{x}]_1^2 - [\\frac{1}{x}]_1^2\n",
    "\\end{align}\n",
    "$$\n",
    "\n",
    "所以最终原式可以等于：\n",
    "$$\n",
    "\\begin{align}\n",
    "\\int_1^2 \\frac{\\log{x}}{x^2}dx &= [-\\frac{\\log{x}}{x}]_1^2 - [\\frac{1}{x}]_1^2 \\\\\n",
    "&= [-\\frac{\\log{x} + 1}{x}]_1^2\n",
    "\\end{align}\n",
    "$$\n",
    "\n",
    "\n"
   ]
  },
  {
   "cell_type": "markdown",
   "id": "49f63b86",
   "metadata": {},
   "source": []
  }
 ],
 "metadata": {
  "kernelspec": {
   "display_name": "base",
   "language": "python",
   "name": "python3"
  },
  "language_info": {
   "codemirror_mode": {
    "name": "ipython",
    "version": 3
   },
   "file_extension": ".py",
   "mimetype": "text/x-python",
   "name": "python",
   "nbconvert_exporter": "python",
   "pygments_lexer": "ipython3",
   "version": "3.9.13"
  },
  "vscode": {
   "interpreter": {
    "hash": "d02fbd22cc4c6fec9e99de4b446ca13782ea8adfd609faedbf025ed59b3016ad"
   }
  }
 },
 "nbformat": 4,
 "nbformat_minor": 5
}
